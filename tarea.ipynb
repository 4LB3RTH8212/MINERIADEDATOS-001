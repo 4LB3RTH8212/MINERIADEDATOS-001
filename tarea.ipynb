{
 "cells": [
  {
   "cell_type": "markdown",
   "id": "357f3063",
   "metadata": {},
   "source": [
    "# EjerciciosBasicosPython1"
   ]
  },
  {
   "cell_type": "markdown",
   "id": "c436345f",
   "metadata": {},
   "source": [
    "## Problema 1\n",
    "Realiza una variable con tu matricula y realiza una secuencia de imprimir con tu nombre y tu matricula concatenados."
   ]
  },
  {
   "cell_type": "code",
   "execution_count": 16,
   "id": "41e3a29e",
   "metadata": {},
   "outputs": [
    {
     "name": "stdout",
     "output_type": "stream",
     "text": [
      "JossAlberthSanchezBracho1796551\n"
     ]
    }
   ],
   "source": [
    "mat = \"1796551\"\n",
    "nom = \"JossAlberthSanchezBracho\"\n",
    "\n",
    "con = nom + mat\n",
    "\n",
    "print(con)"
   ]
  },
  {
   "cell_type": "markdown",
   "id": "2a7321af",
   "metadata": {},
   "source": [
    "## Problema 2\n",
    "Pidiendo el input del usuario pide dos números y crea una pequeña calculadora con los operadores básicos de suma, resta,multiplicación, división, y exponente."
   ]
  },
  {
   "cell_type": "code",
   "execution_count": 21,
   "id": "030f571a",
   "metadata": {},
   "outputs": [
    {
     "name": "stdout",
     "output_type": "stream",
     "text": [
      "Introduce un número:10\n",
      "Introduce otro número: 2\n",
      "La suma de 10.000000 y 2.000000 es: 12.0\n",
      "La resta de 10.000000 y 2.000000 es: 8.0\n",
      "La multiplicacion de 10.000000 y 2.000000 es: 20.0\n",
      "La division de 10.000000 entre 2.000000 es: 5.0\n",
      "El numero 10.000000 elevado a 2.000000 es: 100.0\n"
     ]
    }
   ],
   "source": [
    "Num1 = float(input(\"Introduce un número:\" ))\n",
    "Num2 = float(input(\"Introduce otro número: \"))\n",
    "\n",
    "print (\"La suma de %f y %f es:\" %(Num1,Num2),Num1+Num2)\n",
    "print (\"La resta de %f y %f es:\" %(Num1,Num2),Num1-Num2)\n",
    "print (\"La multiplicacion de %f y %f es:\" %(Num1,Num2),Num1*Num2)\n",
    "print (\"La division de %f entre %f es:\" %(Num1,Num2),Num1/Num2)\n",
    "print (\"El numero %f elevado a %f es:\" %(Num1,Num2),Num1**Num2)\n"
   ]
  },
  {
   "cell_type": "markdown",
   "id": "cbac125f",
   "metadata": {},
   "source": [
    "# Ejercicio 3:\n",
    "Con loop while o for, realiza una lista de 10 numeros multiplos de 3, y después realiza una función de loop que sume todos los números dentro del arreglo."
   ]
  },
  {
   "cell_type": "code",
   "execution_count": 30,
   "id": "e3354688",
   "metadata": {},
   "outputs": [
    {
     "name": "stdout",
     "output_type": "stream",
     "text": [
      "[3, 6, 9, 12, 15, 18, 21, 24, 27, 30]\n",
      "La suma total es: 135\n"
     ]
    }
   ],
   "source": [
    "list1 = [3]\n",
    "Suma = 0\n",
    "for i in range(2,11):\n",
    "    list1.extend([3*i])\n",
    "\n",
    "    \n",
    "for i in range(0,9):\n",
    "    Suma = Suma + list1[i]\n",
    "    \n",
    "print(list1) \n",
    "print(\"La suma total es:\",Suma)    "
   ]
  },
  {
   "cell_type": "markdown",
   "id": "b6a8ecdf",
   "metadata": {},
   "source": [
    "# Ejercicio 4\n",
    "Con una función de if else, revisar si un número es par o es impar.\n",
    "Con una función de if else, revisar si un número es primo o no."
   ]
  },
  {
   "cell_type": "code",
   "execution_count": 52,
   "id": "80d22d2b",
   "metadata": {},
   "outputs": [
    {
     "name": "stdout",
     "output_type": "stream",
     "text": [
      "Introduce un número:7\n",
      "Introduce otro número7\n",
      "El numero 7.000000 es impar\n",
      "El numero 7.000000 es primo\n"
     ]
    }
   ],
   "source": [
    "Num1 = int(input(\"Introduce un número:\" ))\n",
    "Num2 = int(input(\"Introduce otro número\"))\n",
    "aux = 0 \n",
    "if  Num1 % 2 == 0: \n",
    "    print (\"El numero %f es par\" %(Num1))\n",
    "else:\n",
    "    print (\"El numero %f es impar\" %(Num1))\n",
    "    \n",
    "for i in range (1,Num2+1):\n",
    "    if Num2 % i == 0:\n",
    "        aux += 1\n",
    "\n",
    "if aux == 2:\n",
    "    print(\"El numero %f es primo\"%(Num2))\n",
    "else:\n",
    "    print(\"El numero %f no es primo\"%(Num2))\n",
    "    \n",
    "    \n"
   ]
  },
  {
   "cell_type": "markdown",
   "id": "95d8549c",
   "metadata": {},
   "source": [
    "## Ejercicio 5\n",
    "Utilizando diferentes clases en python, crea una calculadora con los operadores básicos de suma, resta, multiplicación, división, y exponente."
   ]
  },
  {
   "cell_type": "code",
   "execution_count": 46,
   "id": "d66e732b",
   "metadata": {},
   "outputs": [
    {
     "name": "stdout",
     "output_type": "stream",
     "text": [
      "ingrese un numero: 10\n",
      "ingrese un numero: 2\n",
      "el resultado de la suma es:  12.0\n",
      "el resultado de la multiplicación es:  20.0\n",
      "el resultado de la resta es:  8.0\n",
      "el resultado de la divición es:  5.0\n",
      "el resultado de la potencia es:  100.0\n"
     ]
    }
   ],
   "source": [
    "class calculadora:\n",
    "    num1= 0\n",
    "    num2= 0\n",
    "\n",
    "\n",
    "    def __init__(self,num1,num2):\n",
    "        self.num1= float(num1)\n",
    "        self.num2= float(num2)\n",
    "\n",
    "    def sumar(self):\n",
    "        suma = self.num1+self.num2\n",
    "        print(\"el resultado de la suma es: \", suma)\n",
    "    \n",
    "    def restar(self):\n",
    "        resta = self.num1-self.num2\n",
    "        print(\"el resultado de la resta es: \", resta)\n",
    "\n",
    "    def multiplicar(self):\n",
    "        multiplicacion = self.num1*self.num2\n",
    "        print(\"el resultado de la multiplicación es: \", multiplicacion)\n",
    "\n",
    "    def dividir(self):\n",
    "        divicion = self.num1/self.num2\n",
    "        print(\"el resultado de la divición es: \", divicion)\n",
    "\n",
    "    def potencia(self):\n",
    "        potencia = self.num1**self.num2        \n",
    "        print(\"el resultado de la potencia es: \", potencia)\n",
    "        \n",
    "\n",
    "num1 = input(\"ingrese un numero: \")\n",
    "num2 = input(\"ingrese un numero: \")\n",
    "\n",
    "calculadora = calculadora(num1,num2)\n",
    "calculadora.sumar()\n",
    "calculadora.multiplicar()\n",
    "calculadora.restar()\n",
    "calculadora.dividir()\n",
    "calculadora.potencia()\n"
   ]
  },
  {
   "cell_type": "markdown",
   "id": "a0e86dab",
   "metadata": {},
   "source": [
    "# Ejercicios con estructuras básicas de python."
   ]
  },
  {
   "cell_type": "markdown",
   "id": "d0e71dd7",
   "metadata": {},
   "source": [
    "## Tuplas\n",
    "Crear una variable flotante, integer, boleana y compleja e imprimir el tipo de variable que es.\n",
    "\n",
    "Crear una tupla con valores enteros imprimir el primer y ultimo valor.\n",
    "\n",
    "Añadir 3 valores de string a la tupla.\n",
    "\n",
    "Verificar si una variable existe dentro de la tupla."
   ]
  },
  {
   "cell_type": "code",
   "execution_count": 53,
   "id": "830bad3c",
   "metadata": {},
   "outputs": [
    {
     "name": "stdout",
     "output_type": "stream",
     "text": [
      "El tipo de la variable a es: <class 'int'>\n",
      "El tipo de la variable b es: <class 'float'>\n",
      "El tipo de la variable c es: <class 'bool'>\n",
      "El tipo de la variable d es: <class 'complex'>\n"
     ]
    }
   ],
   "source": [
    "a = 1\n",
    "print(\"El tipo de la variable a es:\",type(a))\n",
    "\n",
    "b = 2.0\n",
    "print(\"El tipo de la variable b es:\",type(b))\n",
    "\n",
    "c = False\n",
    "print(\"El tipo de la variable c es:\",type(c))\n",
    "\n",
    "d = 5 + 3j\n",
    "print(\"El tipo de la variable d es:\",type(d))\n",
    "\n",
    "\n"
   ]
  },
  {
   "cell_type": "code",
   "execution_count": 59,
   "id": "f2534cab",
   "metadata": {},
   "outputs": [
    {
     "name": "stdout",
     "output_type": "stream",
     "text": [
      "<class 'tuple'>\n",
      "1\n",
      "10\n"
     ]
    }
   ],
   "source": [
    "tupla = (1,2,3,4,5,6,7,8,9,10)\n",
    "\n",
    "print(type(tupla))\n",
    "print(tupla[0])\n",
    "print(tupla[-1])\n"
   ]
  },
  {
   "cell_type": "code",
   "execution_count": 76,
   "id": "0b72e484",
   "metadata": {},
   "outputs": [
    {
     "name": "stdout",
     "output_type": "stream",
     "text": [
      "(1, 2, 3, 4, 5, 'test', 6, 7, 'Hola', 'Mundo', 'Joss')\n"
     ]
    }
   ],
   "source": [
    "tupla = (1,2,3,4,5,\"test\",6,7)\n",
    "tupla = tupla.__add__(('Hola','Mundo','Joss'))\n",
    "print (tupla)\n"
   ]
  },
  {
   "cell_type": "code",
   "execution_count": 77,
   "id": "d031be4d",
   "metadata": {},
   "outputs": [
    {
     "data": {
      "text/plain": [
       "True"
      ]
     },
     "execution_count": 77,
     "metadata": {},
     "output_type": "execute_result"
    }
   ],
   "source": [
    "tupla = (1, 2, 3, 4, 5, 'test', 6, 7, 'Hola', 'Mundo', 'Joss')\n",
    "'Joss' in tupla"
   ]
  },
  {
   "cell_type": "markdown",
   "id": "5829b59d",
   "metadata": {},
   "source": [
    "## Listas\n",
    "Crear una lista con 40 elementos aleatorios enteros.\n",
    "\n",
    "Con una funcion (def) crear dos listas nuevas a partir de la lista creada por numeros aleatorios, en la cual en una esten los elementos pares, y en la otra los elementos impares.\n",
    "\n",
    "Crear dos variables con la longitud de ambas listas nuevas e imprimir las variables.\n",
    "\n",
    "Ordenar los elementos de la lista par de mayor a menor, y los de la lista impar de menor a mayor.\n",
    "\n",
    "Utilizar al menos cuatro de las funciones de listas en python en la lista original de 40 elementos."
   ]
  },
  {
   "cell_type": "code",
   "execution_count": 119,
   "id": "31c84137",
   "metadata": {},
   "outputs": [
    {
     "name": "stdout",
     "output_type": "stream",
     "text": [
      "[9, 95, 59, 86, 56, 36, 48, 3, 50, 86, 36, 9, 63, 38, 93, 53, 15, 27, 67, 53, 2, 46, 88, 30, 5, 69, 76, 97, 87, 60, 35, 47, 90, 75, 32, 32, 85, 74, 100, 36]\n",
      "La Longitud de los pares es 20 [86, 56, 36, 48, 50, 86, 36, 38, 2, 46, 88, 30, 76, 60, 90, 32, 32, 74, 100, 36]\n",
      "La Longitud de los impares es 20 [9, 95, 59, 3, 9, 63, 93, 53, 15, 27, 67, 53, 5, 69, 97, 87, 35, 47, 75, 85]\n",
      "[100, 90, 88, 86, 86, 76, 74, 60, 56, 50, 48, 46, 38, 36, 36, 36, 32, 32, 30, 2]\n",
      "[3, 5, 9, 9, 15, 27, 35, 47, 53, 53, 59, 63, 67, 69, 75, 85, 87, 93, 95, 97]\n",
      "[9, 95, 59, 86, 56, 36, 48, 3, 50, 86, 36, 9, 63, 38, 93, 53, 15, 27, 67, 53, 2, 46, 88, 30, 5, 69, 76, 97, 87, 60, 35, 47, 90, 75, 32, 32, 85, 74, 100, 36, 33]\n",
      "[9, 95, 59, 86, 56, 36, 48, 3, 50, 86, 36, 9, 63, 38, 93, 53, 15, 27, 67, 53, 2, 46, 88, 30, 5, 69, 76, 97, 87, 60, 35, 47, 90, 75, 32, 32, 85, 74, 100, 36, 33]\n",
      "[9, 95, 59, 86, 56, 36, 48, 3, 50, 86, 36, 9, 63, 38, 93, 53, 15, 27, 67, 53, 2, 46, 88, 30, 5, 69, 76, 97, 87, 60, 35, 47, 90, 75, 32, 32, 85, 74, 100, 36, 33, 9, 95, 59, 86, 56, 36, 48, 3, 50, 86, 36, 9, 63, 38, 93, 53, 15, 27, 67, 53, 2, 46, 88, 30, 5, 69, 76, 97, 87, 60, 35, 47, 90, 75, 32, 32, 85, 74, 100, 36, 33]\n",
      "[]\n"
     ]
    }
   ],
   "source": [
    "import random\n",
    "n = 40\n",
    "aleatorios = [random.randint(0,100) for _ in range(n)]\n",
    "print(aleatorios)\n",
    "\n",
    "pares = []\n",
    "impares= []\n",
    "\n",
    "def separar(aleatorios):\n",
    "    for i in range(0,n):\n",
    "        if aleatorios[i] % 2 == 0:\n",
    "            pares.append(aleatorios[i])\n",
    "        else:\n",
    "            impares.append(aleatorios[i])\n",
    "\n",
    "separar(aleatorios)\n",
    "a =len(pares)\n",
    "b = len(impares)\n",
    "print(\"La Longitud de los pares es\",a,pares)\n",
    "print(\"La Longitud de los impares es\",b,impares)\n",
    "pares.sort(reverse=True)\n",
    "impares.sort()\n",
    "print(pares)\n",
    "print(impares)\n",
    "\n",
    "aleatorios.append(33)#agregamos un 33\n",
    "print(aleatorios)\n",
    "aleatorioscopia = aleatorios.copy()#copiamos en otra lista la original\n",
    "print(aleatorioscopia)\n",
    "aleatorios.extend(aleatorioscopia)#pegamos las 2 listas\n",
    "print(aleatorios)\n",
    "aleatorios.clear()#borramos los elementos de la lista original \n",
    "print(aleatorios)\n"
   ]
  },
  {
   "cell_type": "markdown",
   "id": "db01c0b7",
   "metadata": {},
   "source": [
    "## Diccionarios\n",
    "Crear un diccionario de 6 personas que conozcas con su primer nombre y su edad.\n",
    "\n",
    "Crear una lista con los valores de la edad y reacomodar la lista de menor a mayor valor.\n",
    "\n",
    "Usando el diccionario y un loop, imprimir solo los nombres.\n",
    "\n",
    "Añadir dos personas nuevas a tu diccionario, incluyendo edad."
   ]
  },
  {
   "cell_type": "code",
   "execution_count": 136,
   "id": "3245a230",
   "metadata": {},
   "outputs": [
    {
     "name": "stdout",
     "output_type": "stream",
     "text": [
      "{'Andres': 21, 'Luisa': 20, 'Santos': 21, 'Omar': 24, 'Ester': 25, 'Gerardo': 29}\n",
      "[20, 21, 21, 24, 25, 29]\n",
      "Andres\n",
      "Luisa\n",
      "Santos\n",
      "Omar\n",
      "Ester\n",
      "Gerardo\n",
      "{'Andres': 21, 'Luisa': 20, 'Santos': 21, 'Omar': 24, 'Ester': 25, 'Gerardo': 29, 'Margarita': 65, 'Delfino': 21}\n"
     ]
    }
   ],
   "source": [
    "diccionario = {'Andres': 21,'Luisa' :20,'Santos': 21,'Omar':24,'Ester':25,'Gerardo':29}\n",
    "print(diccionario)\n",
    "\n",
    "lista =[]\n",
    "for key,value in diccionario.items():\n",
    "    lista.append(value)\n",
    "lista.sort()\n",
    "\n",
    "print(lista)\n",
    "\n",
    "for i in diccionario :print(i)\n",
    "    \n",
    "diccionario['Margarita'] = 65\n",
    "diccionario['Delfino'] = 21\n",
    "print(diccionario)"
   ]
  },
  {
   "cell_type": "markdown",
   "id": "660b099b",
   "metadata": {},
   "source": [
    "## Sets\n",
    "Crea un set con 100 numeros aleatorios enteros del 1 al 25.\n",
    "\n",
    "Comprueba la longitud de tu set.\n",
    "\n",
    "Crea una lista de 5 numeros aleatorios del 1 al 10 y comprueba si cada valor aparece en el set inicial."
   ]
  },
  {
   "cell_type": "code",
   "execution_count": 168,
   "id": "e78b4206",
   "metadata": {},
   "outputs": [
    {
     "name": "stdout",
     "output_type": "stream",
     "text": [
      "Set: {1, 2, 3, 4, 5, 6, 7, 9, 10, 11, 12, 13, 14, 15, 16, 17, 18, 19, 20, 21, 22, 23, 24, 25}\n",
      "La Longitud del set es: 24\n",
      "La lista de 5 numeros:  [2, 6, 8, 1, 1] \n",
      "\n",
      "El numero  2  aparece en el set inicial\n",
      "El numero  6  aparece en el set inicial\n",
      "El numero  8  NO aparece en el set inicial\n",
      "El numero  1  aparece en el set inicial\n",
      "El numero  1  aparece en el set inicial\n"
     ]
    }
   ],
   "source": [
    "import random\n",
    "set1 = set()\n",
    "for i in range(0,100):\n",
    "  set1.add(random.randint(1,25))\n",
    "print(\"Set:\",set1)\n",
    "print(\"La Longitud del set es:\", len(set1))\n",
    "\n",
    "lista=[]\n",
    "for i in range(0,5):\n",
    "  lista.append(random.randint(1,10)) \n",
    "print(\"La lista de 5 numeros: \",lista,\"\\n\")\n",
    "\n",
    "for i in range(0,5):\n",
    "  if lista[i] in set1: \n",
    "    print(\"El numero \", lista[i],\" aparece en el set inicial\")\n",
    "  else:\n",
    "    print(\"El numero \", lista[i],\" NO aparece en el set inicial\")"
   ]
  }
 ],
 "metadata": {
  "kernelspec": {
   "display_name": "Python 3",
   "language": "python",
   "name": "python3"
  },
  "language_info": {
   "codemirror_mode": {
    "name": "ipython",
    "version": 3
   },
   "file_extension": ".py",
   "mimetype": "text/x-python",
   "name": "python",
   "nbconvert_exporter": "python",
   "pygments_lexer": "ipython3",
   "version": "3.8.8"
  }
 },
 "nbformat": 4,
 "nbformat_minor": 5
}
